{
  "cells": [
    {
      "cell_type": "markdown",
      "metadata": {
        "id": "9DW5EYa5YeyE"
      },
      "source": [
        "# Class Encoding"
      ]
    },
    {
      "cell_type": "markdown",
      "metadata": {
        "id": "REUMRGojYeyT"
      },
      "source": [
        "Author: Sampath K Perera and  Kajhanan Kailainathan\n",
        "\n",
        "This notebook is based on [this](https://scikit-learn.org/stable/modules/preprocessing.html#preprocessing-categorical-features) scikit learn tutorial."
      ]
    },
    {
      "cell_type": "markdown",
      "metadata": {
        "id": "Dpxc1zkfYeyW"
      },
      "source": [
        "## Import the libraries"
      ]
    },
    {
      "cell_type": "code",
      "execution_count": null,
      "metadata": {
        "id": "LeEVEHyrYeyZ"
      },
      "outputs": [],
      "source": [
        "import seaborn as sns\n",
        "from sklearn.preprocessing import LabelEncoder, OneHotEncoder\n",
        "import pandas as pd"
      ]
    },
    {
      "cell_type": "markdown",
      "metadata": {
        "id": "sQjagrxhYeyd"
      },
      "source": [
        "## LabelEncoder()"
      ]
    },
    {
      "cell_type": "markdown",
      "metadata": {
        "id": "PgmW3krFYeyf"
      },
      "source": [
        "Use the following code to load the data through the seaborn library. Here, the LabelEncoder() module ffrom sklearn is used to transform non-numerical labels into numerical labels. These labels are then stored at a field named 'class_encoded' in the example below. Refer [this](https://scikit-learn.org/stable/modules/generated/sklearn.preprocessing.LabelEncoder.html) to learn more about LabellEncoder()."
      ]
    },
    {
      "cell_type": "code",
      "execution_count": null,
      "metadata": {
        "id": "RPGEE5GjYeyh",
        "outputId": "fe83d706-2240-4ebb-f35b-5d3bc7513907"
      },
      "outputs": [
        {
          "name": "stdout",
          "output_type": "stream",
          "text": [
            "Display class (species) label and encoded classes with all features\n",
            "\n",
            "       species     island  bill_length_mm  bill_depth_mm  flipper_length_mm  \\\n",
            "0       Adelie  Torgersen            39.1           18.7              181.0   \n",
            "152  Chinstrap      Dream            46.5           17.9              192.0   \n",
            "220     Gentoo     Biscoe            46.1           13.2              211.0   \n",
            "\n",
            "     body_mass_g     sex  class_encoded  \n",
            "0         3750.0    Male              0  \n",
            "152       3500.0  Female              1  \n",
            "220       4500.0  Female              2  \n",
            "\n",
            "Display class (species) label and encoded classes\n",
            "\n",
            "     class_encoded    species\n",
            "0                0     Adelie\n",
            "152              1  Chinstrap\n",
            "220              2     Gentoo\n"
          ]
        }
      ],
      "source": [
        "# Load the dataset\n",
        "df = sns.load_dataset(\"penguins\")\n",
        "le = LabelEncoder()\n",
        "y_encoded = le.fit_transform(df['species'])\n",
        "df['class_encoded'] = y_encoded\n",
        "\n",
        "samples = df.groupby('species').head(1)\n",
        "\n",
        "\n",
        "print(\"Display class (species) label and encoded classes with all features\")\n",
        "print()\n",
        "print(samples)\n",
        "print()\n",
        "print(\"Display class (species) label and encoded classes\")\n",
        "# Display only class label and species\n",
        "print()\n",
        "print(samples[['class_encoded', 'species']])"
      ]
    },
    {
      "cell_type": "markdown",
      "metadata": {
        "id": "EqdTUEorYeyp"
      },
      "source": [
        "## OneHotEncoder()"
      ]
    },
    {
      "cell_type": "markdown",
      "metadata": {
        "id": "jUoNKjo1Yeyr"
      },
      "source": [
        "Use the following code to experiment with the OneHotEncoder() module from scikit-learn. Similar to the previous example, here OneHotEncoder() is used instead of LabelEncoder(). Learn more about OneHotEncoder() [here](https://scikit-learn.org/stable/modules/generated/sklearn.preprocessing.OneHotEncoder.html)."
      ]
    },
    {
      "cell_type": "code",
      "execution_count": null,
      "metadata": {
        "id": "nxkjRjKrYeys",
        "outputId": "28ec77fb-77af-4d3a-d2d4-adaadc75ebc4"
      },
      "outputs": [
        {
          "name": "stdout",
          "output_type": "stream",
          "text": [
            "Display class (species) label and encoded classes with all features\n",
            "\n",
            "     species     island  bill_length_mm  bill_depth_mm  flipper_length_mm  \\\n",
            "0     Adelie  Torgersen            39.1           18.7              181.0   \n",
            "1  Chinstrap      Dream            46.5           17.9              192.0   \n",
            "2     Gentoo     Biscoe            46.1           13.2              211.0   \n",
            "\n",
            "   body_mass_g     sex  species_Adelie  species_Chinstrap  species_Gentoo  \n",
            "0       3750.0    Male             1.0                0.0             0.0  \n",
            "1       3500.0  Female             0.0                1.0             0.0  \n",
            "2       4500.0  Female             0.0                0.0             1.0  \n",
            "\n",
            "Display class (species) label and encoded classes\n",
            "\n",
            "   species_Adelie  species_Chinstrap  species_Gentoo    species\n",
            "0             1.0                0.0             0.0     Adelie\n",
            "1             0.0                1.0             0.0  Chinstrap\n",
            "2             0.0                0.0             1.0     Gentoo\n"
          ]
        }
      ],
      "source": [
        "df = sns.load_dataset(\"penguins\")\n",
        "# One-hot encoding for species column\n",
        "ohe = OneHotEncoder(sparse_output=False)\n",
        "species_encoded = ohe.fit_transform(df[['species']])\n",
        "species_encoded_df = pd.DataFrame(species_encoded, columns=ohe.get_feature_names_out(['species']))\n",
        "\n",
        "# Combine the one-hot encoded species with the original DataFrame\n",
        "df_encoded = pd.concat([df, species_encoded_df], axis=1)\n",
        "\n",
        "# Group the data by class and select the first sample from each group\n",
        "samples = df_encoded.groupby('species').first().reset_index()\n",
        "\n",
        "# Display the samples\n",
        "print(\"Display class (species) label and encoded classes with all features\")\n",
        "print()\n",
        "print(samples)\n",
        "print()\n",
        "print(\"Display class (species) label and encoded classes\")\n",
        "# Display only class label and species\n",
        "print()\n",
        "print(samples[['species_Adelie',  'species_Chinstrap',  'species_Gentoo', 'species']])"
      ]
    },
    {
      "cell_type": "markdown",
      "metadata": {
        "id": "DzGWhiceYeyv"
      },
      "source": [
        "## Labelling with pd.factorize"
      ]
    },
    {
      "cell_type": "markdown",
      "metadata": {
        "id": "-vd219fhYeyw"
      },
      "source": [
        "When a single column data is given to pd.factorize(), it will be braodcast to a scalar with all the values, and a corresponding numpy array of indices is output, and an index list of objects is output (visualize pd.factorize(y) to understand this statement). (i.e), if the first data is of species 'Adelie', the first element of the array will contain the index of 'Adelie' in the index list.\n",
        "\n",
        "By manipulating this data, label encodings could be obtained."
      ]
    },
    {
      "cell_type": "code",
      "execution_count": null,
      "metadata": {
        "id": "vZtY-y1YYey0",
        "outputId": "b2845cb3-b7c4-4999-e485-f62b3b6ab44d"
      },
      "outputs": [
        {
          "name": "stdout",
          "output_type": "stream",
          "text": [
            "Display class (species) label and encoded classes with all features\n",
            "\n",
            "     species     island  bill_length_mm  bill_depth_mm  flipper_length_mm  \\\n",
            "0     Adelie  Torgersen            39.1           18.7              181.0   \n",
            "1  Chinstrap      Dream            46.5           17.9              192.0   \n",
            "2     Gentoo     Biscoe            46.1           13.2              211.0   \n",
            "\n",
            "   body_mass_g     sex  y_labels  \n",
            "0       3750.0    Male         0  \n",
            "1       3500.0  Female         1  \n",
            "2       4500.0  Female         2  \n",
            "\n"
          ]
        }
      ],
      "source": [
        "# Also it is possible to use pd.factorize\n",
        "y = df['species']\n",
        "\n",
        "\n",
        "# Convert categorical values to numerical labels\n",
        "y_labels, y_unique = pd.factorize(y)\n",
        "\n",
        "df['y_labels'] = y_labels\n",
        "samples = df.groupby('species').first().reset_index()\n",
        "\n",
        "# Display the samples\n",
        "print(\"Display class (species) label and encoded classes with all features\")\n",
        "print()\n",
        "print(samples)\n",
        "print()\n",
        "\n"
      ]
    }
  ],
  "metadata": {
    "kernelspec": {
      "display_name": "Python 3",
      "language": "python",
      "name": "python3"
    },
    "language_info": {
      "codemirror_mode": {
        "name": "ipython",
        "version": 3
      },
      "file_extension": ".py",
      "mimetype": "text/x-python",
      "name": "python",
      "nbconvert_exporter": "python",
      "pygments_lexer": "ipython3",
      "version": "3.12.4"
    },
    "orig_nbformat": 4,
    "colab": {
      "provenance": []
    }
  },
  "nbformat": 4,
  "nbformat_minor": 0
}